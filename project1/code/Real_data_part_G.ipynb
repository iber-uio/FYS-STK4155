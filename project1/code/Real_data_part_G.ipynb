{
 "cells": [
  {
   "cell_type": "code",
   "execution_count": 8,
   "metadata": {
    "collapsed": true
   },
   "outputs": [],
   "source": [
    "#!pip install matplotlib-scalebar\n",
    "#!pip install -U scikit-learn --upgrade"
   ]
  },
  {
   "cell_type": "code",
   "execution_count": null,
   "metadata": {
    "pycharm": {
     "is_executing": true
    }
   },
   "outputs": [],
   "source": [
    "from mpl_toolkits.mplot3d import Axes3D\n",
    "import matplotlib.pyplot as plt\n",
    "from matplotlib import cm\n",
    "from matplotlib.ticker import LinearLocator, FormatStrFormatter\n",
    "import numpy as np\n",
    "from random import random, seed\n",
    "from sklearn.model_selection import train_test_split\n",
    "from matplotlib.ticker import MaxNLocator\n",
    "import matplotlib.ticker as ticker\n",
    "from mpl_toolkits.axes_grid1 import make_axes_locatable\n",
    "from sklearn.utils import resample\n",
    "from sklearn.model_selection import KFold\n",
    "from sklearn.linear_model import Ridge\n",
    "from sklearn.model_selection import cross_val_score\n",
    "from sklearn.preprocessing import PolynomialFeatures\n",
    "from imageio import imread\n",
    "import seaborn as sns\n",
    "from sklearn.pipeline import make_pipeline\n",
    "from sklearn.linear_model import Lasso\n",
    "import warnings\n",
    "warnings.filterwarnings(\"ignore\")\n",
    "from matplotlib_scalebar.scalebar import ScaleBar"
   ]
  },
  {
   "cell_type": "code",
   "execution_count": null,
   "metadata": {},
   "outputs": [],
   "source": [
    "def FrankeFunction(x,y):\n",
    "    term1 = 0.75*np.exp(-(0.25*(9*x-2)**2) - 0.25*((9*y-2)**2))\n",
    "    term2 = 0.75*np.exp(-((9*x+1)**2)/49.0 - 0.1*(9*y+1))\n",
    "    term3 = 0.5*np.exp(-(9*x-7)**2/4.0 - 0.25*((9*y-3)**2))\n",
    "    term4 = -0.2*np.exp(-(9*x-4)**2 - (9*y-7)**2)\n",
    "    return term1 + term2 + term3 + term4\n",
    "\n",
    "def R2(y_data, y_model):\n",
    "    return 1 - np.sum((y_data - y_model) ** 2) / np.sum((y_data - np.mean(y_data)) ** 2)\n",
    "\n",
    "def MSE(y_data,y_model):\n",
    "    n = np.size(y_model)\n",
    "    return np.sum((y_data-y_model)**2)/n"
   ]
  },
  {
   "cell_type": "code",
   "execution_count": null,
   "metadata": {},
   "outputs": [],
   "source": [
    "def design_matrix(x, y, n ):\n",
    "    if len(x.shape) > 1:\n",
    "        x = np.ravel(x)\n",
    "        y = np.ravel(y)\n",
    "\n",
    "    N = len(x)\n",
    "    l = int((n+1)*(n+2)/2)\t\t# Number of elements in beta\n",
    "    X = np.ones((N,l))\n",
    "\n",
    "    for i in range(1,n+1):\n",
    "        q = int((i)*(i+1)/2)\n",
    "        for k in range(i+1):\n",
    "            X[:,q+k] = (x**(i-k))*(y**k)\n",
    "\n",
    "    return X"
   ]
  },
  {
   "cell_type": "code",
   "execution_count": null,
   "metadata": {},
   "outputs": [],
   "source": [
    "terrain1 = imread(\"iowa.tif\")\n",
    "terrain2 = imread(\"rothrock_state_forest_PA.tif\")"
   ]
  },
  {
   "cell_type": "code",
   "execution_count": null,
   "metadata": {},
   "outputs": [],
   "source": [
    "terrain1 = terrain1[::10, ::10]\n",
    "terrain2 = terrain2[::10, ::10]"
   ]
  },
  {
   "cell_type": "code",
   "execution_count": null,
   "metadata": {},
   "outputs": [],
   "source": [
    "fig,ax = plt.subplots(1, 2, figsize=(15,20))\n",
    "\n",
    "ax[0].set_title(\"West Central Iowa\")\n",
    "plot1 = ax[0].imshow(terrain1, cmap='coolwarm', vmin=0, vmax=650)\n",
    "ax[0].set_xlabel(\"X (Longitude, Seconds)\")\n",
    "ax[0].set_ylabel(\"Y (Latitude, Seconds)\")\n",
    "scalebar1 = ScaleBar(30.87, location='lower right')\n",
    "ax[0].add_artist(scalebar1)\n",
    "\n",
    "divider = make_axes_locatable(ax[0])\n",
    "cax = divider.append_axes('right', size='5%', pad=0.05)\n",
    "fig.colorbar(plot1, cax=cax, orientation='vertical', label='elevation (m)')\n",
    "\n",
    "ax[1].set_title(\"Rothrock State Forest, Pennsylvania\")\n",
    "plot2 = ax[1].imshow(terrain2, cmap='coolwarm', vmin=0, vmax=650)\n",
    "ax[1].set_xlabel(\"X (Longitude, Seconds)\")\n",
    "ax[1].set_ylabel(\"Y (Latitude, Seconds)\")\n",
    "scalebar2 = ScaleBar(30.87, location='lower right')\n",
    "ax[1].add_artist(scalebar2)\n",
    "\n",
    "divider = make_axes_locatable(ax[1])\n",
    "cax = divider.append_axes('right', size='5%', pad=0.05)\n",
    "fig.colorbar(plot2, cax=cax, orientation='vertical', label='elevation (m)')\n",
    "\n",
    "plt.tight_layout()"
   ]
  },
  {
   "cell_type": "code",
   "execution_count": null,
   "metadata": {},
   "outputs": [],
   "source": [
    "def real_data_OLS(data, npointsx, npointsy, lower_poly, upper_poly, noise, sigma, scaling):\n",
    "\n",
    "    test_MSEs = []\n",
    "    test_R2s = []\n",
    "    train_MSEs = []\n",
    "    train_R2s = []\n",
    "    betas = []\n",
    "\n",
    "    poly_order_range = range(1,6)\n",
    "\n",
    "    x = np.linspace(0, 1, npointsx)\n",
    "    y = np.linspace(0, 1, npointsy)\n",
    "\n",
    "    x, y = np.meshgrid(x,y)\n",
    "\n",
    "    z = data\n",
    "    #z += noise*np.random.normal(0, sigma, (len(x),len(x)))\n",
    "    z = np.ravel(z)\n",
    "    z = (z-z.mean())/z.std()\n",
    "    count = 0\n",
    "    for order in poly_order_range:\n",
    "        X = design_matrix(x, y, order)\n",
    "\n",
    "        X_train, X_test, z_train, z_test = train_test_split(X, z, test_size=0.2)\n",
    "        if scaling == 1:\n",
    "\n",
    "            X_train = X_train - np.mean(X_train, axis=0)\n",
    "            X_test = X_test - np.mean(X_test, axis=0)\n",
    "            z_train = z_train - np.mean(z_train, axis=0)\n",
    "            z_test = z_test - np.mean(z_test, axis=0)\n",
    "\n",
    "        beta = np.linalg.pinv(X_train.T @ X_train) @ X_train.T @ z_train\n",
    "        z_tilde = X_train @ beta\n",
    "        z_pred = X_test @ beta\n",
    "\n",
    "        test_MSEs.append(MSE(z_pred, z_test))\n",
    "        train_MSEs.append(MSE(z_train,z_tilde))\n",
    "        test_R2s.append(R2(z_test,z_pred))\n",
    "        train_R2s.append(R2(z_train,z_tilde))\n",
    "        betas.append(beta)\n",
    "        #print(MSE(z_pred, z_test))\n",
    "        count += 1\n",
    "        print(count)\n",
    "\n",
    "    return test_MSEs, test_R2s, train_MSEs, train_R2s, betas"
   ]
  },
  {
   "cell_type": "code",
   "execution_count": null,
   "metadata": {},
   "outputs": [],
   "source": [
    "npointsx = terrain1.shape[0]\n",
    "npointsy = terrain1.shape[1]\n",
    "lower_poly = 1\n",
    "upper_poly = 5\n",
    "noise = 0\n",
    "sigma = 0.1\n",
    "scaling = 0\n",
    "\n",
    "test_MSEs1, test_R2s1, train_MSEs1, train_R2s1, betas1 = real_data_OLS(terrain1, npointsx, npointsy, lower_poly, upper_poly, noise, sigma, scaling)"
   ]
  },
  {
   "cell_type": "code",
   "execution_count": null,
   "metadata": {},
   "outputs": [],
   "source": [
    "npointsx = terrain2.shape[0]\n",
    "npointsy = terrain2.shape[1]\n",
    "lower_poly = 1\n",
    "upper_poly = 5\n",
    "noise = 0\n",
    "sigma = 0.1\n",
    "scaling = 0\n",
    "\n",
    "test_MSEs2, test_R2s2, train_MSEs2, train_R2s2, betas2 = real_data_OLS(terrain2, npointsx, npointsy, lower_poly, upper_poly, noise, sigma, scaling)"
   ]
  },
  {
   "cell_type": "code",
   "execution_count": null,
   "metadata": {},
   "outputs": [],
   "source": [
    "fig,ax = plt.subplots(2,2, figsize=(12,7))\n",
    "poly_order_range = range(lower_poly, upper_poly+1)\n",
    "lw=2\n",
    "dashl = 4\n",
    "dashs = 7\n",
    "ax[0,0].plot(poly_order_range, train_MSEs1, '-o', lw=lw, color='dodgerblue', label='train')\n",
    "ax[0,0].plot(poly_order_range, test_MSEs1, '--o', lw=lw, dashes=(dashl, dashs), color='darkorange', label='test')\n",
    "ax[0,0].xaxis.set_major_locator(MaxNLocator(integer=True))\n",
    "#ax[0,0].set_xlabel('Polynomial Order')\n",
    "ax[0,0].set_ylabel('MSE')\n",
    "ax[0,0].set_title('West Central Iowa')\n",
    "ax[0,0].legend()\n",
    "ax[0,0].set_ylim(-0.05, 1.05)\n",
    "\n",
    "ax[0,1].plot(poly_order_range, train_MSEs2, '-o', lw=lw, color='dodgerblue', label='train')\n",
    "ax[0,1].plot(poly_order_range, test_MSEs2, '--o', lw=lw, dashes=(dashl, dashs), color='darkorange', label='test')\n",
    "ax[0,1].xaxis.set_major_locator(MaxNLocator(integer=True))\n",
    "#ax[0,1].set_xlabel('Polynomial Order')\n",
    "ax[0,1].set_ylabel('MSE')\n",
    "ax[0,1].set_title('Rothrock State Forest, Pennsylvania')\n",
    "ax[0,1].legend()\n",
    "ax[0,1].set_ylim(-0.05, 1.05)\n",
    "\n",
    "ax[1,0].plot(poly_order_range, train_R2s1, '-o',lw=lw, color='red', label='train')\n",
    "ax[1,0].plot(poly_order_range, test_R2s1, '--o',lw=lw, dashes=(dashl, dashs), color='green', label='test')\n",
    "ax[1,0].xaxis.set_major_locator(MaxNLocator(integer=True))\n",
    "ax[1,0].set_xlabel('Polynomial Order')\n",
    "ax[1,0].set_ylabel('R2')\n",
    "#ax[1,0].set_title('Sangre de Cristo Mountains')\n",
    "ax[1,0].legend()\n",
    "ax[1,0].set_ylim(-0.05, 1.05)\n",
    "\n",
    "ax[1,1].plot(poly_order_range, train_R2s2, '-o', lw=lw, color='red', label='train')\n",
    "ax[1,1].plot(poly_order_range, test_R2s2, '--o', lw=lw, dashes=(dashl, dashs), color='green', label='test')\n",
    "ax[1,1].xaxis.set_major_locator(MaxNLocator(integer=True))\n",
    "ax[1,1].set_xlabel('Polynomial Order')\n",
    "ax[1,1].set_ylabel('R2')\n",
    "#ax[1,1].set_title('Rothrock State Forest')\n",
    "ax[1,1].legend()\n",
    "ax[1,1].set_ylim(-0.05, 1.05)\n",
    "\n",
    "\n",
    "plt.tight_layout()"
   ]
  },
  {
   "cell_type": "markdown",
   "metadata": {},
   "source": [
    "# Ridge Regression"
   ]
  },
  {
   "cell_type": "code",
   "execution_count": null,
   "metadata": {},
   "outputs": [],
   "source": [
    "def real_data_ridge(data, npointsx, npointsy, lower, upper, noise, sigma, nlambdas, scaling):\n",
    "\n",
    "    np.random.seed(1)\n",
    "\n",
    "    test_MSEs = []\n",
    "    train_MSEs = []\n",
    "\n",
    "    poly_order_range = range(lower, upper + 1)\n",
    "\n",
    "    x = np.linspace(0, 1, npointsx)\n",
    "    y = np.linspace(0, 1, npointsy)\n",
    "    x_gr, y_gr = np.meshgrid(x,y)\n",
    "\n",
    "    z = data\n",
    "    #z += noise*np.random.normal(0, sigma, (len(x),len(x)))\n",
    "    #z = np.ravel(z)\n",
    "    z = (z-z.mean())/z.std()\n",
    "    count = 0\n",
    "    for order in poly_order_range:\n",
    "        X = design_matrix(x, y, order)\n",
    "        X_train, X_test, z_train, z_test = train_test_split(X, z, test_size = 0.2, random_state = 1)\n",
    "\n",
    "        if scaling == 1:\n",
    "            X_train = X_train - np.mean(X_train, axis=0)\n",
    "            X_test = X_test - np.mean(X_test, axis=0)\n",
    "            z_train = z_train - np.mean(z_train, axis=0)\n",
    "            z_test = z_test - np.mean(z_test, axis=0)\n",
    "\n",
    "        I = np.eye(X_train.shape[1],X_train.shape[1])\n",
    "\n",
    "        test_MSEs_temp = np.zeros(nlambdas)\n",
    "        train_MSEs_temp = np.zeros(nlambdas)\n",
    "\n",
    "        lambdas = np.logspace(-4, 1, nlambdas)\n",
    "\n",
    "        for i in range(nlambdas):\n",
    "            lmb = lambdas[i]\n",
    "\n",
    "            Ridgebeta = np.linalg.pinv(X_train.T @ X_train+lmb*I) @ X_train.T @ z_train\n",
    "\n",
    "            ztildeRidge = X_train @ Ridgebeta\n",
    "            zpredictRidge = X_test @ Ridgebeta\n",
    "\n",
    "            test_MSEs_temp[i] = MSE(z_test,zpredictRidge)\n",
    "            train_MSEs_temp[i] = MSE(z_train,ztildeRidge)\n",
    "\n",
    "        train_MSEs.append(train_MSEs_temp)\n",
    "        test_MSEs.append(test_MSEs_temp)\n",
    "        count += 1\n",
    "        print(count)\n",
    "\n",
    "    train_MSEs = np.array(train_MSEs)\n",
    "    test_MSEs = np.array(test_MSEs)\n",
    "\n",
    "    return test_MSEs, train_MSEs"
   ]
  },
  {
   "cell_type": "code",
   "execution_count": null,
   "metadata": {},
   "outputs": [],
   "source": [
    "npointsx = terrain1.shape[0]\n",
    "npointsy = terrain1.shape[1]\n",
    "lower_poly = 1\n",
    "upper_poly = 5\n",
    "noise = 0\n",
    "sigma = 0\n",
    "scaling = 1\n",
    "nlambdas = 20\n",
    "lambdas = np.logspace(-4, 1, nlambdas)\n",
    "test_MSEs, train_MSEs = real_data_ridge(terrain1, npointsx, npointsy, lower_poly, upper_poly, noise, sigma, nlambdas, scaling)"
   ]
  },
  {
   "cell_type": "code",
   "execution_count": null,
   "metadata": {},
   "outputs": [],
   "source": [
    "fig, ax = plt.subplots(figsize=(20,7))\n",
    "sns.heatmap(train_MSEs, annot=True, ax=ax, cmap=\"Blues\", cbar_kws={'label': 'MSE'})\n",
    "ax.set_title(\"Iowa - Training MSE for Ridge Regression\")\n",
    "ax.set_xticklabels(lambdas.round(4))\n",
    "ax.set_ylabel(\"Polynomial Degree\")\n",
    "ax.set_xlabel(\"$\\\\alpha$\")"
   ]
  },
  {
   "cell_type": "code",
   "execution_count": null,
   "metadata": {},
   "outputs": [],
   "source": [
    "fig, ax = plt.subplots(figsize=(20,7))\n",
    "sns.heatmap(test_MSEs, annot=True, ax=ax, cmap=\"Blues\", cbar_kws={'label': 'MSE'})\n",
    "ax.set_title(\"Iowa - Testing MSE for Ridge Regression\")\n",
    "ax.set_xticklabels(lambdas.round(4))\n",
    "ax.set_ylabel(\"Polynomial Degree\")\n",
    "ax.set_xlabel(\"$\\\\alpha$\")"
   ]
  },
  {
   "cell_type": "code",
   "execution_count": null,
   "metadata": {},
   "outputs": [],
   "source": [
    "npointsx = terrain2.shape[0]\n",
    "npointsy = terrain2.shape[1]\n",
    "lower_poly = 1\n",
    "upper_poly = 5\n",
    "noise = 0\n",
    "sigma = 0\n",
    "scaling = 1\n",
    "nlambdas = 20\n",
    "lambdas = np.logspace(-4, 1, nlambdas)\n",
    "test_MSEs, train_MSEs = real_data_ridge(terrain2, npointsx, npointsy, lower_poly, upper_poly, noise, sigma, nlambdas, scaling)"
   ]
  },
  {
   "cell_type": "code",
   "execution_count": null,
   "metadata": {},
   "outputs": [],
   "source": [
    "fig, ax = plt.subplots(figsize=(20,7))\n",
    "sns.heatmap(train_MSEs, annot=True, ax=ax, cmap=\"Blues\", cbar_kws={'label': 'MSE'})\n",
    "ax.set_title(\"Pennsylvania - Training MSE for Ridge Regression\")\n",
    "ax.set_xticklabels(lambdas.round(4))\n",
    "ax.set_ylabel(\"Polynomial Degree\")\n",
    "ax.set_xlabel(\"$\\\\alpha$\")"
   ]
  },
  {
   "cell_type": "code",
   "execution_count": null,
   "metadata": {},
   "outputs": [],
   "source": [
    "fig, ax = plt.subplots(figsize=(20,7))\n",
    "sns.heatmap(test_MSEs, annot=True, ax=ax, cmap=\"Blues\", cbar_kws={'label': 'MSE'})\n",
    "ax.set_title(\"Pennsylvania - Testing MSE for Ridge Regression\")\n",
    "ax.set_xticklabels(lambdas.round(4))\n",
    "ax.set_ylabel(\"Polynomial Degree\")\n",
    "ax.set_xlabel(\"$\\\\alpha$\")"
   ]
  },
  {
   "cell_type": "markdown",
   "metadata": {},
   "source": [
    "# Lasso Regression"
   ]
  },
  {
   "cell_type": "code",
   "execution_count": null,
   "metadata": {},
   "outputs": [],
   "source": [
    "def real_data_lasso(data, npointsx, npointsy, lower_poly, upper_poly, noise, sigma, nalphas, scaling):\n",
    "\n",
    "    np.random.seed(1)\n",
    "\n",
    "    test_MSEs = []\n",
    "    train_MSEs = []\n",
    "\n",
    "    poly_order_range = range(lower_poly, upper_poly + 1)\n",
    "\n",
    "    x = np.linspace(0, 1, npointsx)\n",
    "    y = np.linspace(0, 1, npointsy)\n",
    "    x_gr, y_gr = np.meshgrid(x,y)\n",
    "\n",
    "    z = data\n",
    "    #z += noise*np.random.normal(0, sigma, (len(x),len(x)))\n",
    "    #z = np.ravel(z)\n",
    "    z = (z-z.mean())/z.std()\n",
    "    count = 0\n",
    "    for order in poly_order_range:\n",
    "        X = design_matrix(x, y, order)\n",
    "        X_train, X_test, z_train, z_test = train_test_split(X, z, test_size = 0.2, random_state = 1)\n",
    "\n",
    "        if scaling == 1:\n",
    "            X_train = X_train - np.mean(X_train, axis=0)\n",
    "            X_test = X_test - np.mean(X_test, axis=0)\n",
    "            z_train = z_train - np.mean(z_train, axis=0)\n",
    "            z_test = z_test - np.mean(z_test, axis=0)\n",
    "\n",
    "        I = np.eye(X_train.shape[1],X_train.shape[1])\n",
    "\n",
    "        test_MSEs_temp = np.zeros(nalphas)\n",
    "        train_MSEs_temp = np.zeros(nalphas)\n",
    "        test_R2s_temp = np.zeros(nalphas)\n",
    "        train_R2s_temp = np.zeros(nalphas)\n",
    "\n",
    "        alphas = np.logspace(-4, 1, nalphas)\n",
    "        #print(alphas)\n",
    "\n",
    "        for i in range(nalphas):\n",
    "            alp = alphas[i]\n",
    "            model = Lasso(alpha = alp)\n",
    "            model.fit(X_train, z_train)\n",
    "\n",
    "            ztilde_Lasso = model.predict(X_train)\n",
    "            zpredict_Lasso = model.predict(X_test)\n",
    "\n",
    "            test_MSEs_temp[i] = MSE(z_test,zpredict_Lasso)\n",
    "            train_MSEs_temp[i] = MSE(z_train,ztilde_Lasso)\n",
    "\n",
    "        train_MSEs.append(train_MSEs_temp)\n",
    "        test_MSEs.append(test_MSEs_temp)\n",
    "\n",
    "        count += 1\n",
    "        print(count)\n",
    "\n",
    "    train_MSEs = np.array(train_MSEs)\n",
    "    test_MSEs = np.array(test_MSEs)\n",
    "\n",
    "    return test_MSEs, train_MSEs"
   ]
  },
  {
   "cell_type": "code",
   "execution_count": null,
   "metadata": {},
   "outputs": [],
   "source": [
    "npointsx = terrain1.shape[0]\n",
    "npointsy = terrain1.shape[1]\n",
    "lower_poly = 1\n",
    "upper_poly = 5\n",
    "noise = 0\n",
    "sigma = 0\n",
    "scaling = 1\n",
    "nalphas = 20\n",
    "test_MSEs, train_MSEs = real_data_lasso(terrain1, npointsx, npointsy, lower_poly, upper_poly, noise, sigma, nalphas, scaling)"
   ]
  },
  {
   "cell_type": "code",
   "execution_count": null,
   "metadata": {},
   "outputs": [],
   "source": [
    "fig, ax = plt.subplots(figsize=(20,7))\n",
    "sns.heatmap(train_MSEs, annot=True, ax=ax, cmap=\"Blues\", cbar_kws={'label': 'MSE'})\n",
    "ax.set_title(\"Iowa - Training MSE for Lasso Regression\")\n",
    "alphas = np.logspace(-4, 1, nalphas)\n",
    "ax.set_xticklabels(alphas.round(4))\n",
    "ax.set_ylabel(\"Polynomial Degree\")\n",
    "ax.set_xlabel(\"$\\\\alpha$\")"
   ]
  },
  {
   "cell_type": "code",
   "execution_count": null,
   "metadata": {},
   "outputs": [],
   "source": [
    "fig, ax = plt.subplots(figsize=(20,7))\n",
    "sns.heatmap(test_MSEs, annot=True, ax=ax, cmap=\"Blues\", cbar_kws={'label': 'MSE'})\n",
    "ax.set_title(\"Iowa - Testing MSE for Lasso Regression\")\n",
    "ax.set_xticklabels(alphas.round(4))\n",
    "ax.set_ylabel(\"Polynomial Degree\")\n",
    "ax.set_xlabel(\"$\\\\alpha$\")"
   ]
  },
  {
   "cell_type": "code",
   "execution_count": null,
   "metadata": {},
   "outputs": [],
   "source": [
    "npointsx = terrain2.shape[0]\n",
    "npointsy = terrain2.shape[1]\n",
    "lower_poly = 1\n",
    "upper_poly = 5\n",
    "noise = 0\n",
    "sigma = 0\n",
    "scaling = 1\n",
    "nalphas = 20\n",
    "test_MSEs, train_MSEs = real_data_lasso(terrain2, npointsx, npointsy, lower_poly, upper_poly, noise, sigma, nalphas, scaling)"
   ]
  },
  {
   "cell_type": "code",
   "execution_count": null,
   "metadata": {},
   "outputs": [],
   "source": [
    "fig, ax = plt.subplots(figsize=(20,7))\n",
    "sns.heatmap(train_MSEs, annot=True, ax=ax, cmap=\"Blues\", cbar_kws={'label': 'MSE'})\n",
    "ax.set_title(\"Pennsylvania - Training MSE for Lasso Regression\")\n",
    "ax.set_xticklabels(alphas.round(4))\n",
    "ax.set_ylabel(\"Polynomial Degree\")\n",
    "ax.set_xlabel(\"$\\\\alpha$\")"
   ]
  },
  {
   "cell_type": "code",
   "execution_count": null,
   "metadata": {},
   "outputs": [],
   "source": [
    "fig, ax = plt.subplots(figsize=(20,7))\n",
    "sns.heatmap(test_MSEs, annot=True, ax=ax, cmap=\"Blues\", cbar_kws={'label': 'MSE'})\n",
    "ax.set_title(\"Pennsylvania - Testing MSE for Lasso Regression\")\n",
    "ax.set_xticklabels(alphas.round(4))\n",
    "ax.set_ylabel(\"Polynomial Degree\")\n",
    "ax.set_xlabel(\"$\\\\alpha$\")"
   ]
  }
 ],
 "metadata": {
  "kernelspec": {
   "display_name": "Python 3 (ipykernel)",
   "language": "python",
   "name": "python3"
  },
  "language_info": {
   "codemirror_mode": {
    "name": "ipython",
    "version": 3
   },
   "file_extension": ".py",
   "mimetype": "text/x-python",
   "name": "python",
   "nbconvert_exporter": "python",
   "pygments_lexer": "ipython3",
   "version": "3.9.12"
  }
 },
 "nbformat": 4,
 "nbformat_minor": 1
}
